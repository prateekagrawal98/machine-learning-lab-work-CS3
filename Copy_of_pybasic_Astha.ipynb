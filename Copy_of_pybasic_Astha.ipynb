{
  "nbformat": 4,
  "nbformat_minor": 0,
  "metadata": {
    "kernelspec": {
      "name": "python3",
      "display_name": "Python 3",
      "language": "python"
    },
    "language_info": {
      "mimetype": "text/x-python",
      "nbconvert_exporter": "python",
      "name": "python",
      "pygments_lexer": "ipython3",
      "version": "3.5.4",
      "file_extension": ".py",
      "codemirror_mode": {
        "version": 3,
        "name": "ipython"
      }
    },
    "colab": {
      "name": "Copy of pybasic_Astha.ipynb",
      "provenance": [],
      "collapsed_sections": [],
      "include_colab_link": true
    }
  },
  "cells": [
    {
      "cell_type": "markdown",
      "metadata": {
        "id": "view-in-github",
        "colab_type": "text"
      },
      "source": [
        "<a href=\"https://colab.research.google.com/github/prateekagrawal98/python/blob/master/Copy_of_pybasic_Astha.ipynb\" target=\"_parent\"><img src=\"https://colab.research.google.com/assets/colab-badge.svg\" alt=\"Open In Colab\"/></a>"
      ]
    },
    {
      "cell_type": "markdown",
      "metadata": {
        "heading_collapsed": true,
        "id": "n_VDg1RwuChB",
        "colab_type": "text"
      },
      "source": [
        "# Expressions, Operators, Control statements"
      ]
    },
    {
      "cell_type": "code",
      "metadata": {
        "id": "Rc6gK_TEv2QF",
        "colab_type": "code",
        "colab": {}
      },
      "source": [
        ""
      ],
      "execution_count": 0,
      "outputs": []
    },
    {
      "cell_type": "markdown",
      "metadata": {
        "id": "6Cw_bQCzuChF",
        "colab_type": "text"
      },
      "source": [
        "# Operators\n",
        "- Arithmetic (+, -, *, /, //, %)\n",
        "- Relational (<, >, <=, >=, !=, ==)\n",
        "- Shift (>>, <<)\n",
        "- Assignment (=)\n",
        "- Logical (and, or, not)\n",
        "- Bitwise (&, |, !)\n",
        "- 'in' and 'not in' operator\n"
      ]
    },
    {
      "cell_type": "markdown",
      "metadata": {
        "id": "FEu90oEtuChG",
        "colab_type": "raw"
      },
      "source": [
        "# << and >>\n",
        "\n",
        "if n=8 (1000 in binary), n>>1 will give 100 after shifting bits by 1 place to right. \n",
        "                         n<<1 will give 10000 after shifting bits by 1 place to left."
      ]
    },
    {
      "cell_type": "code",
      "metadata": {
        "trusted": false,
        "id": "7v33-5nguChI",
        "colab_type": "code",
        "outputId": "b787529b-1e0e-4419-b818-7a7d81bc9b15",
        "colab": {
          "base_uri": "https://localhost:8080/",
          "height": 68
        }
      },
      "source": [
        "n=10\n",
        "print(n,'binary',format(n,'b'))\n",
        "print(n,'* 2=',n<<1, format(n<<1,'b'))\n",
        "print(n,'/ 2=',n>>1,format(n>>1,'b'))"
      ],
      "execution_count": 1,
      "outputs": [
        {
          "output_type": "stream",
          "text": [
            "10 binary 1010\n",
            "10 * 2= 20 10100\n",
            "10 / 2= 5 101\n"
          ],
          "name": "stdout"
        }
      ]
    },
    {
      "cell_type": "code",
      "metadata": {
        "trusted": false,
        "id": "2QV1wgNYuChQ",
        "colab_type": "code",
        "outputId": "2fea7245-4a8e-447b-86a1-6fd3ef0f92ab",
        "colab": {
          "base_uri": "https://localhost:8080/",
          "height": 68
        }
      },
      "source": [
        "# logical\n",
        "x = True\n",
        "y = False\n",
        "print('x and y is',x and y) # Output: x and y is False\n",
        "print('x or y is',x or y) # Output: x or y is True\n",
        "print('not x is',not x) # Output: not x is False"
      ],
      "execution_count": 2,
      "outputs": [
        {
          "output_type": "stream",
          "text": [
            "x and y is False\n",
            "x or y is True\n",
            "not x is False\n"
          ],
          "name": "stdout"
        }
      ]
    },
    {
      "cell_type": "code",
      "metadata": {
        "trusted": false,
        "id": "Az6UaXmPuChV",
        "colab_type": "code",
        "outputId": "def6f4ec-dcc6-4bd4-d016-6fabedabef1f",
        "colab": {
          "base_uri": "https://localhost:8080/",
          "height": 68
        }
      },
      "source": [
        "# bitwise\n",
        "x=10 \n",
        "y=4\n",
        "print(x & y) \n",
        "print(x | y)\n",
        "print(x ^ y)"
      ],
      "execution_count": 3,
      "outputs": [
        {
          "output_type": "stream",
          "text": [
            "0\n",
            "14\n",
            "14\n"
          ],
          "name": "stdout"
        }
      ]
    },
    {
      "cell_type": "code",
      "metadata": {
        "trusted": false,
        "id": "fHdeM7hKuCha",
        "colab_type": "code",
        "outputId": "e77f68eb-ed17-46e2-e9d9-4c440155a2b0",
        "colab": {
          "base_uri": "https://localhost:8080/",
          "height": 51
        }
      },
      "source": [
        "# in and not in\n",
        "\n",
        "x = 'Hello world'\n",
        "print('j' in x)    # Output: True\n",
        "print('h' not in x)   # Output: True"
      ],
      "execution_count": 4,
      "outputs": [
        {
          "output_type": "stream",
          "text": [
            "False\n",
            "True\n"
          ],
          "name": "stdout"
        }
      ]
    },
    {
      "cell_type": "code",
      "metadata": {
        "trusted": false,
        "id": "SD083I1euChe",
        "colab_type": "code",
        "outputId": "cc37918d-98af-48aa-908c-f0da4ea02b6c",
        "colab": {
          "base_uri": "https://localhost:8080/",
          "height": 85
        }
      },
      "source": [
        "# perform operations on cs\n",
        "\n",
        "import cmath\n",
        "a=complex(20+7j)\n",
        "b=complex(5+3j)\n",
        "print('a+b',a+b)\n",
        "print('a-b',a-b)\n",
        "print('a*b',a*b)\n",
        "print('a/b',a/b)"
      ],
      "execution_count": 5,
      "outputs": [
        {
          "output_type": "stream",
          "text": [
            "a+b (25+10j)\n",
            "a-b (15+4j)\n",
            "a*b (79+95j)\n",
            "a/b (3.5588235294117645-0.7352941176470589j)\n"
          ],
          "name": "stdout"
        }
      ]
    },
    {
      "cell_type": "code",
      "metadata": {
        "id": "vvnJBOLewPRn",
        "colab_type": "code",
        "colab": {}
      },
      "source": [
        ""
      ],
      "execution_count": 0,
      "outputs": []
    },
    {
      "cell_type": "markdown",
      "metadata": {
        "id": "Ks4llkCxuChj",
        "colab_type": "text"
      },
      "source": [
        "### Task1 Write a program in python to calculate area of triangle when all three sides are given.\n",
        "- s=(a+b+c)/2\n",
        "- area =  √(s(s-a)(s-b)(s-c) )"
      ]
    },
    {
      "cell_type": "code",
      "metadata": {
        "trusted": false,
        "id": "WulnhHhpuChl",
        "colab_type": "code",
        "outputId": "e8565f85-5026-4563-8314-5880b57b2526",
        "colab": {
          "base_uri": "https://localhost:8080/",
          "height": 85
        }
      },
      "source": [
        ""
      ],
      "execution_count": 0,
      "outputs": [
        {
          "output_type": "stream",
          "text": [
            "Enter length of triangle12\n",
            "Enter Breadth of triangle45\n",
            "Enter height of triangle3\n",
            "467.6537180435969\n"
          ],
          "name": "stdout"
        }
      ]
    },
    {
      "cell_type": "markdown",
      "metadata": {
        "id": "J-WVeW51uChr",
        "colab_type": "text"
      },
      "source": [
        "# Control Statements"
      ]
    },
    {
      "cell_type": "markdown",
      "metadata": {
        "id": "OsmF1j5wuChs",
        "colab_type": "text"
      },
      "source": [
        "### Decisions (if-else)"
      ]
    },
    {
      "cell_type": "markdown",
      "metadata": {
        "id": "f48xY3pmuChu",
        "colab_type": "raw"
      },
      "source": [
        "# simple if-else\n",
        "if(cond):\n",
        "    stmt\n",
        "else:\n",
        "    stmt"
      ]
    },
    {
      "cell_type": "markdown",
      "metadata": {
        "id": "fL6cU4vTuChv",
        "colab_type": "raw"
      },
      "source": [
        "# if-else-if\n",
        "if(cond):\n",
        "    stmt\n",
        "elif(cond):\n",
        "    stmt\n",
        "    .\n",
        "    .\n",
        "    .\n",
        "else: \n",
        "    stmt"
      ]
    },
    {
      "cell_type": "markdown",
      "metadata": {
        "id": "qDbMSLPWuChx",
        "colab_type": "raw"
      },
      "source": [
        "# nested if-else\n",
        "                            if(cond):\n",
        "                                stmt\n",
        "                                if(cond):\n",
        "                                    stmt1\n",
        "                            else:\n",
        "                                if(cond):\n",
        "                                    stmt3\n",
        "                                else:\n",
        "                                    stmt4"
      ]
    },
    {
      "cell_type": "markdown",
      "metadata": {
        "heading_collapsed": true,
        "id": "osB-_kdfuChz",
        "colab_type": "text"
      },
      "source": [
        "### Task2: Write a proram that accept a lowercase/uppercase character from the user and check whether the character is a vowel or consonant."
      ]
    },
    {
      "cell_type": "code",
      "metadata": {
        "hidden": true,
        "trusted": false,
        "id": "ER1s9HLLuCh1",
        "colab_type": "code",
        "outputId": "e44cfab8-977d-489e-9f41-e1e273047630",
        "colab": {
          "base_uri": "https://localhost:8080/",
          "height": 51
        }
      },
      "source": [
        "# write your code after this line\n",
        "str=input('Enter a letter: ').lower()\n",
        "if(str == 'a' or str == 'e' or str == 'i' or str == 'o' or str == 'u'):\n",
        "  print(str,'is vowel')\n",
        "else:\n",
        "  print(str,'is consonant')\n",
        "\n"
      ],
      "execution_count": 7,
      "outputs": [
        {
          "output_type": "stream",
          "text": [
            "Enter a letter: b\n",
            "b is consonant\n"
          ],
          "name": "stdout"
        }
      ]
    },
    {
      "cell_type": "markdown",
      "metadata": {
        "heading_collapsed": true,
        "id": "K78UkrbLuCh9",
        "colab_type": "text"
      },
      "source": [
        "### Task3: Write a program to check whether given character is a digit or a character in lowercase or uppercase alphabet. Hint: ASCII value of digit is between 48 to 58 and Lowercase characters in the range of 97 to122, uppercase is between 65 and 90)."
      ]
    },
    {
      "cell_type": "code",
      "metadata": {
        "hidden": true,
        "trusted": false,
        "id": "ECZGi0hruCh-",
        "colab_type": "code",
        "outputId": "f012d548-d1f6-451f-ecc8-058e1047ebff",
        "colab": {
          "base_uri": "https://localhost:8080/",
          "height": 51
        }
      },
      "source": [
        "# write your code after this line\n",
        "str = input(\"Enter a digit(ACSII) or character: \")\n",
        "str=ord(str)\n",
        "if str>=97 and str<=122:\n",
        "  print(\"lower case letter\")\n",
        "if str>=48 and str<=58:\n",
        "  print(\"is a digit\")\n",
        "if str>=65 and str<=90:\n",
        "  print(\"upper case letter\")\n",
        "\n"
      ],
      "execution_count": 9,
      "outputs": [
        {
          "output_type": "stream",
          "text": [
            "Enter a digit(ACSII) or character: P\n",
            "upper case letter\n"
          ],
          "name": "stdout"
        }
      ]
    },
    {
      "cell_type": "markdown",
      "metadata": {
        "id": "4vS2xTXOuCiC",
        "colab_type": "text"
      },
      "source": [
        "### Repetition or loop\n",
        "- while loop\n",
        "- for loop"
      ]
    },
    {
      "cell_type": "markdown",
      "metadata": {
        "id": "10zY80T_uCiD",
        "colab_type": "text"
      },
      "source": [
        "#### While loop"
      ]
    },
    {
      "cell_type": "markdown",
      "metadata": {
        "id": "aLy4RdvpuCiE",
        "colab_type": "raw"
      },
      "source": [
        "initialization of loop variable\n",
        "while( condition ):\n",
        "    stmt 1\n",
        "    stmt 2\n",
        "    ...\n",
        "    update loop variable"
      ]
    },
    {
      "cell_type": "markdown",
      "metadata": {
        "id": "ZZJYEIcluCiF",
        "colab_type": "text"
      },
      "source": [
        "##### Task 4: Write a program in Python to print table of any number 'n' provided by user using while loop."
      ]
    },
    {
      "cell_type": "code",
      "metadata": {
        "trusted": false,
        "id": "TrTjzgI_uCiH",
        "colab_type": "code",
        "outputId": "684321d6-e3ec-4952-ed29-c8cc65e028c3",
        "colab": {
          "base_uri": "https://localhost:8080/",
          "height": 1000
        }
      },
      "source": [
        "# write your code after this line\n",
        "num=int(input(\"enter a number\"))\n",
        "while num <= 10:\n",
        "    i = 1\n",
        "    while i <= 10:\n",
        "        product = num*i\n",
        "        print(num, \" * \", i, \" = \", product, \"\\n\")\n",
        "        i = i + 1\n",
        "    num = num + 1\n",
        "    print(\"\\n\")\n"
      ],
      "execution_count": 10,
      "outputs": [
        {
          "output_type": "stream",
          "text": [
            "enter a number2\n",
            "2  *  1  =  2 \n",
            "\n",
            "2  *  2  =  4 \n",
            "\n",
            "2  *  3  =  6 \n",
            "\n",
            "2  *  4  =  8 \n",
            "\n",
            "2  *  5  =  10 \n",
            "\n",
            "2  *  6  =  12 \n",
            "\n",
            "2  *  7  =  14 \n",
            "\n",
            "2  *  8  =  16 \n",
            "\n",
            "2  *  9  =  18 \n",
            "\n",
            "2  *  10  =  20 \n",
            "\n",
            "\n",
            "\n",
            "3  *  1  =  3 \n",
            "\n",
            "3  *  2  =  6 \n",
            "\n",
            "3  *  3  =  9 \n",
            "\n",
            "3  *  4  =  12 \n",
            "\n",
            "3  *  5  =  15 \n",
            "\n",
            "3  *  6  =  18 \n",
            "\n",
            "3  *  7  =  21 \n",
            "\n",
            "3  *  8  =  24 \n",
            "\n",
            "3  *  9  =  27 \n",
            "\n",
            "3  *  10  =  30 \n",
            "\n",
            "\n",
            "\n",
            "4  *  1  =  4 \n",
            "\n",
            "4  *  2  =  8 \n",
            "\n",
            "4  *  3  =  12 \n",
            "\n",
            "4  *  4  =  16 \n",
            "\n",
            "4  *  5  =  20 \n",
            "\n",
            "4  *  6  =  24 \n",
            "\n",
            "4  *  7  =  28 \n",
            "\n",
            "4  *  8  =  32 \n",
            "\n",
            "4  *  9  =  36 \n",
            "\n",
            "4  *  10  =  40 \n",
            "\n",
            "\n",
            "\n",
            "5  *  1  =  5 \n",
            "\n",
            "5  *  2  =  10 \n",
            "\n",
            "5  *  3  =  15 \n",
            "\n",
            "5  *  4  =  20 \n",
            "\n",
            "5  *  5  =  25 \n",
            "\n",
            "5  *  6  =  30 \n",
            "\n",
            "5  *  7  =  35 \n",
            "\n",
            "5  *  8  =  40 \n",
            "\n",
            "5  *  9  =  45 \n",
            "\n",
            "5  *  10  =  50 \n",
            "\n",
            "\n",
            "\n",
            "6  *  1  =  6 \n",
            "\n",
            "6  *  2  =  12 \n",
            "\n",
            "6  *  3  =  18 \n",
            "\n",
            "6  *  4  =  24 \n",
            "\n",
            "6  *  5  =  30 \n",
            "\n",
            "6  *  6  =  36 \n",
            "\n",
            "6  *  7  =  42 \n",
            "\n",
            "6  *  8  =  48 \n",
            "\n",
            "6  *  9  =  54 \n",
            "\n",
            "6  *  10  =  60 \n",
            "\n",
            "\n",
            "\n",
            "7  *  1  =  7 \n",
            "\n",
            "7  *  2  =  14 \n",
            "\n",
            "7  *  3  =  21 \n",
            "\n",
            "7  *  4  =  28 \n",
            "\n",
            "7  *  5  =  35 \n",
            "\n",
            "7  *  6  =  42 \n",
            "\n",
            "7  *  7  =  49 \n",
            "\n",
            "7  *  8  =  56 \n",
            "\n",
            "7  *  9  =  63 \n",
            "\n",
            "7  *  10  =  70 \n",
            "\n",
            "\n",
            "\n",
            "8  *  1  =  8 \n",
            "\n",
            "8  *  2  =  16 \n",
            "\n",
            "8  *  3  =  24 \n",
            "\n",
            "8  *  4  =  32 \n",
            "\n",
            "8  *  5  =  40 \n",
            "\n",
            "8  *  6  =  48 \n",
            "\n",
            "8  *  7  =  56 \n",
            "\n",
            "8  *  8  =  64 \n",
            "\n",
            "8  *  9  =  72 \n",
            "\n",
            "8  *  10  =  80 \n",
            "\n",
            "\n",
            "\n",
            "9  *  1  =  9 \n",
            "\n",
            "9  *  2  =  18 \n",
            "\n",
            "9  *  3  =  27 \n",
            "\n",
            "9  *  4  =  36 \n",
            "\n",
            "9  *  5  =  45 \n",
            "\n",
            "9  *  6  =  54 \n",
            "\n",
            "9  *  7  =  63 \n",
            "\n",
            "9  *  8  =  72 \n",
            "\n",
            "9  *  9  =  81 \n",
            "\n",
            "9  *  10  =  90 \n",
            "\n",
            "\n",
            "\n",
            "10  *  1  =  10 \n",
            "\n",
            "10  *  2  =  20 \n",
            "\n",
            "10  *  3  =  30 \n",
            "\n",
            "10  *  4  =  40 \n",
            "\n",
            "10  *  5  =  50 \n",
            "\n",
            "10  *  6  =  60 \n",
            "\n",
            "10  *  7  =  70 \n",
            "\n",
            "10  *  8  =  80 \n",
            "\n",
            "10  *  9  =  90 \n",
            "\n",
            "10  *  10  =  100 \n",
            "\n",
            "\n",
            "\n"
          ],
          "name": "stdout"
        }
      ]
    },
    {
      "cell_type": "code",
      "metadata": {
        "id": "eX3FACE1yh7t",
        "colab_type": "code",
        "colab": {}
      },
      "source": [
        "\n"
      ],
      "execution_count": 0,
      "outputs": []
    },
    {
      "cell_type": "markdown",
      "metadata": {
        "id": "ae_w6RcmuCiM",
        "colab_type": "text"
      },
      "source": [
        "##### Task 5: Write a program in Python to evaluate the following series using while loop:\n",
        "    \n",
        "    1! + 2! + 3! + 4! ...+ n!\n",
        "hint: use math.factorial(n) function to calculate factorial of number n."
      ]
    },
    {
      "cell_type": "code",
      "metadata": {
        "id": "H-elUTwK0EDf",
        "colab_type": "code",
        "outputId": "8f56257f-a563-44ea-c80f-f3e875b30518",
        "colab": {
          "base_uri": "https://localhost:8080/",
          "height": 51
        }
      },
      "source": [
        "import math\n",
        "num=int(input(\"enter any number\"))\n",
        "sum=0\n",
        "while(num):\n",
        "  sum+=math.factorial(num)\n",
        "  num-=1\n",
        "print(\"the sum is\",sum)\n",
        "\n"
      ],
      "execution_count": 11,
      "outputs": [
        {
          "output_type": "stream",
          "text": [
            "enter any number0\n",
            "the sum is 0\n"
          ],
          "name": "stdout"
        }
      ]
    },
    {
      "cell_type": "markdown",
      "metadata": {
        "id": "eeXNvxy8uCiU",
        "colab_type": "text"
      },
      "source": [
        "##### Task 6: Write a program in Python to enter the numbers till the user wants and at the end it should display the maximum number entered using while loop."
      ]
    },
    {
      "cell_type": "code",
      "metadata": {
        "trusted": false,
        "id": "Mwecmh1ZuCiV",
        "colab_type": "code",
        "outputId": "167b7c33-be6d-4d55-c7fc-6c4ce9f7fe49",
        "colab": {
          "base_uri": "https://localhost:8080/",
          "height": 129
        }
      },
      "source": [
        "str='Y'\n",
        "i=[]\n",
        "n=0;\n",
        "do{\n",
        "    i[n]=int(input(\"Enter a number\"))\n",
        "    str=input(\"Do you want to enter more numbers??(Y/N):- \")\n",
        "    n=n+1\n",
        "}while(str=='Y')\n",
        "print(max(i))"
      ],
      "execution_count": 12,
      "outputs": [
        {
          "output_type": "error",
          "ename": "SyntaxError",
          "evalue": "ignored",
          "traceback": [
            "\u001b[0;36m  File \u001b[0;32m\"<ipython-input-12-374c8f95fa0b>\"\u001b[0;36m, line \u001b[0;32m4\u001b[0m\n\u001b[0;31m    do{\u001b[0m\n\u001b[0m      ^\u001b[0m\n\u001b[0;31mSyntaxError\u001b[0m\u001b[0;31m:\u001b[0m invalid syntax\n"
          ]
        }
      ]
    },
    {
      "cell_type": "markdown",
      "metadata": {
        "id": "1NEdGg9SuCiZ",
        "colab_type": "text"
      },
      "source": [
        "### for loop"
      ]
    },
    {
      "cell_type": "markdown",
      "metadata": {
        "id": "Ui3_CBMguCia",
        "colab_type": "raw"
      },
      "source": [
        "for iterable_var_name in range(terminating_value):\n",
        "    stmt 1\n",
        "    stmt 2\n",
        "    ...\n",
        "    \n",
        " for iterable_var_name in range(initial_value,terminating_value):\n",
        "    stmt 1\n",
        "    stmt 2\n",
        "    ...\n",
        "    \n",
        " for iterable_var_name in range(initial_value,terminating_value,updation):\n",
        "    stmt 1\n",
        "    stmt 2\n",
        "    ..."
      ]
    },
    {
      "cell_type": "code",
      "metadata": {
        "trusted": false,
        "id": "gKDSJNtVuCib",
        "colab_type": "code",
        "outputId": "97ace8db-90a0-4928-fa31-90f068f034ad",
        "colab": {
          "base_uri": "https://localhost:8080/",
          "height": 51
        }
      },
      "source": [
        "# factorial\n",
        "n=int(input('Enter a number '))\n",
        "fact=1\n",
        "for i in range(n,1,-1):\n",
        "    fact=fact*i\n",
        "print(n,'! =',fact)"
      ],
      "execution_count": 13,
      "outputs": [
        {
          "output_type": "stream",
          "text": [
            "Enter a number 5\n",
            "5 ! = 120\n"
          ],
          "name": "stdout"
        }
      ]
    },
    {
      "cell_type": "markdown",
      "metadata": {
        "id": "tPc22JJGuCif",
        "colab_type": "text"
      },
      "source": [
        "##### Task 7:Write a program in Python to print all numbers from 0 to 9 except 3 and 6 using a for loop. \n"
      ]
    },
    {
      "cell_type": "code",
      "metadata": {
        "trusted": false,
        "id": "y1ikCkQvuCig",
        "colab_type": "code",
        "outputId": "5a1eab0a-93b9-4462-f03e-0855d9fe2447",
        "colab": {
          "base_uri": "https://localhost:8080/",
          "height": 153
        }
      },
      "source": [
        "for i in range(10):\n",
        "  if(i==3 or i==6):\n",
        "    continue;\n",
        "  else:\n",
        "    print(\"number :\",i)"
      ],
      "execution_count": 14,
      "outputs": [
        {
          "output_type": "stream",
          "text": [
            "number : 0\n",
            "number : 1\n",
            "number : 2\n",
            "number : 4\n",
            "number : 5\n",
            "number : 7\n",
            "number : 8\n",
            "number : 9\n"
          ],
          "name": "stdout"
        }
      ]
    },
    {
      "cell_type": "markdown",
      "metadata": {
        "id": "e1v7v-l6uCik",
        "colab_type": "text"
      },
      "source": [
        "#### 2 Write a program in Python to get 10 numbers from user using a for loop. The program should print the count of positive numbers, negative numbers and zeroes entered by the user."
      ]
    },
    {
      "cell_type": "code",
      "metadata": {
        "trusted": false,
        "id": "ivTl5evQuCiq",
        "colab_type": "code",
        "outputId": "dabc1420-c458-428f-934b-47546ca69295",
        "colab": {
          "base_uri": "https://localhost:8080/",
          "height": 238
        }
      },
      "source": [
        "count1=0\n",
        "count2=0\n",
        "count3=0\n",
        "for i in range (10):\n",
        "  y=int(input(\"enter the number\"))\n",
        "  if(y>0):\n",
        "    count1+=1\n",
        "  elif(y<0):\n",
        "    count2+=1\n",
        "  else:\n",
        "    count3+=1\n",
        "print(\"positive :{}\".format(count1))\n",
        "print(\"negative :{}\".format(count2))\n",
        "print(\"zero :{}\".format(count3))"
      ],
      "execution_count": 15,
      "outputs": [
        {
          "output_type": "stream",
          "text": [
            "enter the number2\n",
            "enter the number5\n",
            "enter the number7\n",
            "enter the number9\n",
            "enter the number11\n",
            "enter the number13\n",
            "enter the number15\n",
            "enter the number17\n",
            "enter the number19\n",
            "enter the number21\n",
            "positive :10\n",
            "negative :0\n",
            "zero :0\n"
          ],
          "name": "stdout"
        }
      ]
    }
  ]
}